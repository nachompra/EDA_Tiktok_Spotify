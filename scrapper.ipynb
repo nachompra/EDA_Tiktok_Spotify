{
 "cells": [
  {
   "cell_type": "markdown",
   "metadata": {},
   "source": [
    "Extracción de datos TikTok, top 100 canciones más trend de los últimos 100 días"
   ]
  },
  {
   "cell_type": "code",
   "execution_count": 1,
   "metadata": {},
   "outputs": [],
   "source": [
    "import requests\n",
    "from bs4 import BeautifulSoup as bs\n",
    "from selenium import webdriver\n",
    "from fake_useragent import UserAgent\n",
    "from selenium.webdriver.chrome.service import Service\n",
    "from selenium.webdriver.common.keys import Keys\n",
    "from selenium.webdriver.common.by import By\n",
    "from selenium.webdriver.support.ui import WebDriverWait\n",
    "from selenium.webdriver.support import expected_conditions as EC\n",
    "import undetected_chromedriver as uc\n",
    "import re # Expresiones regulares \n",
    "import time\n",
    "import pandas as pd\n",
    "import random as rd"
   ]
  },
  {
   "cell_type": "code",
   "execution_count": 2,
   "metadata": {},
   "outputs": [],
   "source": [
    "url = 'https://ads.tiktok.com/business/creativecenter/inspiration/popular/music/pc/en'\n",
    "service = Service(executable_path='./chromedriver.exe')\n",
    "options = webdriver.ChromeOptions()\n",
    "options.add_argument(\"--disable-blink-features=AutomationControlled\")"
   ]
  },
  {
   "cell_type": "code",
   "execution_count": 3,
   "metadata": {},
   "outputs": [],
   "source": [
    "driver = uc.Chrome(service=service, options=options)\n",
    "driver.get(\"http://www.google.es\")\n"
   ]
  },
  {
   "cell_type": "code",
   "execution_count": 4,
   "metadata": {},
   "outputs": [],
   "source": [
    "driver.get(url)"
   ]
  },
  {
   "cell_type": "code",
   "execution_count": 5,
   "metadata": {},
   "outputs": [],
   "source": [
    "\n",
    "#Logado\n",
    "# Guardar el identificador de la ventana principal\n",
    "main_window = driver.current_window_handle\n",
    "\n",
    "#Clickar log in\n",
    "log_in = driver.find_element(By.XPATH, '/html/body/div[1]/div/header/div[2]/div') #boton login\n",
    "time.sleep(0.2)\n",
    "log_in.click()\n",
    "\n",
    "# # # Cambiar el foco a la ventana emergente\n",
    "\n",
    "# Proceder con la automatización en el pop-up\n",
    "time.sleep(rd.uniform(5.1,5.7))\n",
    "log_google = driver.find_element(By.XPATH, '/html/body/div[14]/div/div[2]/div/div[2]/div/div[2]/div[2]/div/div[2]/div[1]') #boton login google\n",
    "time.sleep(rd.uniform(1.2,2.7))\n",
    "log_google.click()\n",
    "\n",
    "#info y logado\n",
    "user = 'ancho.research@gmail.com'\n",
    "pw = 'scrapper_sel'\n",
    "driver.switch_to.window(driver.window_handles[1])\n",
    "# Espera explícita para el campo de correo\n",
    "email_field = WebDriverWait(driver, 20).until(\n",
    "    EC.presence_of_element_located((By.ID, \"identifierId\"))\n",
    ")\n",
    "email_field.send_keys(user)\n",
    "email_field.send_keys(Keys.RETURN)\n",
    "time.sleep(rd.uniform(2.1,3.1))\n",
    "\n",
    "#ingresar pw\n",
    "password_field = WebDriverWait(driver, 10).until(\n",
    "        EC.presence_of_element_located((By.NAME, \"Passwd\"))\n",
    "    )\n",
    "password_field.send_keys(pw)\n",
    "time.sleep(2)\n",
    "next_button = driver.find_element(By.ID, \"passwordNext\")\n",
    "next_button.click()\n",
    "driver.switch_to.window(main_window)\n",
    "time.sleep(rd.uniform(7.1,8.1))\n",
    "\n",
    "#vuelta a pag principal\n",
    "driver.switch_to.window(main_window)"
   ]
  },
  {
   "cell_type": "markdown",
   "metadata": {},
   "source": [
    "Funcion del logado abajo"
   ]
  },
  {
   "cell_type": "code",
   "execution_count": null,
   "metadata": {},
   "outputs": [],
   "source": [
    "def log_to_main(mail = str, pwd = str):\n",
    "    #Logado\n",
    "    # Guardar el identificador de la ventana principal\n",
    "    main_window = driver.current_window_handle\n",
    "\n",
    "    #Clickar log in\n",
    "    log_in = driver.find_element(By.XPATH, '/html/body/div[1]/div/header/div[2]/div') #boton login\n",
    "    time.sleep(0.2)\n",
    "    log_in.click()\n",
    "\n",
    "    # # # Cambiar el foco a la ventana emergente\n",
    "\n",
    "    # Proceder con la automatización en el pop-up\n",
    "    time.sleep(rd.uniform(5.1,5.7))\n",
    "    log_google = driver.find_element(By.XPATH, '/html/body/div[14]/div/div[2]/div/div[2]/div/div[2]/div[2]/div/div[2]/div[1]') #boton login google\n",
    "    time.sleep(rd.uniform(1.2,2.7))\n",
    "    log_google.click()\n",
    "\n",
    "    #info y logado\n",
    "    # user = 'ancho.research@gmail.com'\n",
    "    # pw = 'scrapper_sel'\n",
    "    user = mail\n",
    "    pw = pwd\n",
    "    driver.switch_to.window(driver.window_handles[1])\n",
    "    # Espera explícita para el campo de correo\n",
    "    email_field = WebDriverWait(driver, 20).until(\n",
    "        EC.presence_of_element_located((By.ID, \"identifierId\"))\n",
    "    )\n",
    "    email_field.send_keys(user)\n",
    "    email_field.send_keys(Keys.RETURN)\n",
    "    time.sleep(rd.uniform(2.1,3.1))\n",
    "\n",
    "    #ingresar pw\n",
    "    password_field = WebDriverWait(driver, 10).until(\n",
    "            EC.presence_of_element_located((By.NAME, \"Passwd\"))\n",
    "        )\n",
    "    password_field.send_keys(pw)\n",
    "    time.sleep(2)\n",
    "    next_button = driver.find_element(By.ID, \"passwordNext\")\n",
    "    next_button.click()\n",
    "    driver.switch_to.window(main_window)\n",
    "    time.sleep(rd.uniform(7.1,8.1))\n",
    "\n",
    "    #vuelta a pag principal\n",
    "    return driver.switch_to.window(main_window)"
   ]
  },
  {
   "cell_type": "code",
   "execution_count": 9,
   "metadata": {},
   "outputs": [],
   "source": [
    "\n",
    "# Guardar el identificador de la ventana principal\n",
    "main_window = driver.current_window_handle\n",
    "\n",
    "# Cambiar el foco a la ventana emergente\n",
    "for handle in driver.window_handles:\n",
    "    if handle != main_window:\n",
    "        driver.switch_to.window(handle)\n",
    "        break\n",
    "\n",
    "# Proceder con la automatización en el pop-up\n"
   ]
  },
  {
   "cell_type": "code",
   "execution_count": 77,
   "metadata": {},
   "outputs": [
    {
     "name": "stdout",
     "output_type": "stream",
     "text": [
      "Current window handles: ['4E192AC2AD447CA4142ECBA03DA7EE8B']\n",
      "Current window title: Trend Discovery: Viral TikTok Sound\n"
     ]
    }
   ],
   "source": [
    "print(\"Current window handles:\", driver.window_handles)\n",
    "print(\"Current window title:\", driver.title)\n"
   ]
  },
  {
   "cell_type": "code",
   "execution_count": 60,
   "metadata": {},
   "outputs": [],
   "source": [
    "user = 'ancho.research@gmail.com'\n",
    "pw = 'scrapper_sel'\n",
    "driver.switch_to.window(driver.window_handles[1])\n",
    "# Espera explícita para el campo de correo\n",
    "email_field = WebDriverWait(driver, 20).until(\n",
    "    EC.presence_of_element_located((By.ID, \"identifierId\"))\n",
    ")\n",
    "email_field.send_keys(user)\n",
    "email_field.send_keys(Keys.RETURN)\n",
    "time.sleep(rd.uniform(2.1,3.1))\n",
    "\n",
    "#ingresar pw\n",
    "password_field = WebDriverWait(driver, 10).until(\n",
    "        EC.presence_of_element_located((By.NAME, \"Passwd\"))\n",
    "    )\n",
    "password_field.send_keys(pw)\n",
    "time.sleep(2)\n",
    "next_button = driver.find_element(By.ID, \"passwordNext\")\n",
    "next_button.click()\n",
    "driver.switch_to.window(main_window)\n",
    "time.sleep(rd.uniform(7.1,8.1))\n",
    "driver.switch_to.window(main_window)"
   ]
  },
  {
   "cell_type": "code",
   "execution_count": 6,
   "metadata": {},
   "outputs": [],
   "source": [
    "#desplegable last n days\n",
    "\n",
    "driver.execute_script(\"window.scrollTo(0, 100)\")\n",
    "drill_days = driver.find_element(By.XPATH, '/html/body/div[1]/div/main/div[2]/div/div[1]/div[3]/div[1]/div[1]/span/span/div/div') \n",
    "time.sleep(rd.uniform(2.1,2.7))\n",
    "drill_days.click()\n",
    "time.sleep(rd.uniform(2.1,4.7))"
   ]
  },
  {
   "cell_type": "code",
   "execution_count": 7,
   "metadata": {},
   "outputs": [],
   "source": [
    "#seleccionar last 120 days\n",
    "\n",
    "driver.execute_script(\"window.scrollTo(0, 300)\")\n",
    "sel_days = driver.find_element(By.CSS_SELECTOR, 'body > div:nth-child(14) > div > div > div > div > div > div:nth-child(3) > div > div > span > div')\n",
    "time.sleep(rd.uniform(2.1,2.7))\n",
    "sel_days.click()"
   ]
  },
  {
   "cell_type": "code",
   "execution_count": 44,
   "metadata": {},
   "outputs": [],
   "source": [
    "output = pd.DataFrame()\n",
    "dict_list = []"
   ]
  },
  {
   "cell_type": "code",
   "execution_count": 34,
   "metadata": {},
   "outputs": [],
   "source": [
    "def country_select():\n",
    "     #selector paises\n",
    "    driver.execute_script(\"window.scrollTo(0, 100)\")\n",
    "    c_sel = driver.find_element(By.XPATH, '/html/body/div[1]/div/main/div[1]/div/div/div/div/span/span/span/span/div')\n",
    "    time.sleep(rd.uniform(2.1,2.7))\n",
    "    return c_sel.click()"
   ]
  },
  {
   "cell_type": "code",
   "execution_count": 17,
   "metadata": {},
   "outputs": [],
   "source": [
    "#Scrolleo lento para cargar página\n",
    "def scroll(n):\n",
    "    current_height = driver.execute_script(\"return window.pageYOffset\")\n",
    "\n",
    "    while current_height < n:\n",
    "        time.sleep(rd.uniform(1.5,3.0))\n",
    "        driver.execute_script(\"window.scrollBy(0, 100)\")\n",
    "        current_height = driver.execute_script(\"return window.pageYOffset\")\n",
    "    return print(f'Scroll completado hasta', driver.execute_script(\"return window.pageYOffset\"))"
   ]
  },
  {
   "cell_type": "code",
   "execution_count": 41,
   "metadata": {},
   "outputs": [],
   "source": [
    "def html_extract():\n",
    "    html_source = driver.page_source\n",
    "    soup = bs(html_source, 'html.parser')\n",
    "    print(\"Html extraído\")\n",
    "    return soup"
   ]
  },
  {
   "cell_type": "code",
   "execution_count": 37,
   "metadata": {},
   "outputs": [],
   "source": [
    "def country_songs(n):\n",
    "    dict_songs = {\"Artista\": [x.get_text() for x in soup.find_all(\"span\", class_=\"ItemCard_autherName__gdrue index-mobile_autherName__DmQfn\")],\n",
    "                    \"Cancion\": [x.get_text() for x in soup.find_all(\"span\", class_=\"ItemCard_musicName__2znhM index-mobile_musicName__4Srx_\")],             \n",
    "                    \"Ranking\": [x.get_text() for x in soup.find_all(\"span\", class_=\"RankingStatus_rankingIndex__ZMDrH index-mobile_rankingIndex__9mXja\")]\n",
    "    }\n",
    "    dict_songs['Pais'] = soup.find(\"div\", {\"data-testid\": \"cc_rimless_select_undefined_item_\" + str(n-1)}).get_text() #para buscar el pais, es el range - 1, incoporamos el n del pais\n",
    "    df = pd.DataFrame(dict_songs)\n",
    "    driver.execute_script(\"window.scrollTo(0, 0)\"), print(\"Dictionario creado y vuelta al top de la página\")\n",
    "    return df\n"
   ]
  },
  {
   "cell_type": "code",
   "execution_count": 70,
   "metadata": {},
   "outputs": [
    {
     "name": "stdout",
     "output_type": "stream",
     "text": [
      "Current window handles: ['B67A76299C7034D5CB2A64FB8391C865']\n"
     ]
    },
    {
     "ename": "NoSuchWindowException",
     "evalue": "Message: no such window: target window already closed\nfrom unknown error: web view not found\n  (Session info: chrome=131.0.6778.205)\nStacktrace:\n\tGetHandleVerifier [0x00A0EC13+23731]\n\t(No symbol) [0x0099C394]\n\t(No symbol) [0x0087BE63]\n\t(No symbol) [0x0085D92B]\n\t(No symbol) [0x008E7F7F]\n\t(No symbol) [0x008FAD99]\n\t(No symbol) [0x008E1BF6]\n\t(No symbol) [0x008B3F35]\n\t(No symbol) [0x008B4EBD]\n\tGetHandleVerifier [0x00CEF0D3+3039603]\n\tGetHandleVerifier [0x00D02DEA+3120778]\n\tGetHandleVerifier [0x00CFB592+3089970]\n\tGetHandleVerifier [0x00AA43B0+635984]\n\t(No symbol) [0x009A4DCD]\n\t(No symbol) [0x009A2068]\n\t(No symbol) [0x009A2205]\n\t(No symbol) [0x00994FD0]\n\tBaseThreadInitThunk [0x763F7BA9+25]\n\tRtlInitializeExceptionChain [0x7738C0CB+107]\n\tRtlClearBits [0x7738C04F+191]\n",
     "output_type": "error",
     "traceback": [
      "\u001b[1;31m---------------------------------------------------------------------------\u001b[0m",
      "\u001b[1;31mNoSuchWindowException\u001b[0m                     Traceback (most recent call last)",
      "Cell \u001b[1;32mIn[70], line 2\u001b[0m\n\u001b[0;32m      1\u001b[0m \u001b[38;5;28mprint\u001b[39m(\u001b[38;5;124m\"\u001b[39m\u001b[38;5;124mCurrent window handles:\u001b[39m\u001b[38;5;124m\"\u001b[39m, driver\u001b[38;5;241m.\u001b[39mwindow_handles)\n\u001b[1;32m----> 2\u001b[0m \u001b[38;5;28mprint\u001b[39m(\u001b[38;5;124m\"\u001b[39m\u001b[38;5;124mCurrent window title:\u001b[39m\u001b[38;5;124m\"\u001b[39m, \u001b[43mdriver\u001b[49m\u001b[38;5;241;43m.\u001b[39;49m\u001b[43mtitle\u001b[49m)\n",
      "File \u001b[1;32mc:\\Users\\Nacho MPra\\AppData\\Local\\Programs\\Python\\Python313\\Lib\\site-packages\\undetected_chromedriver\\__init__.py:806\u001b[0m, in \u001b[0;36mChrome.__getattribute__\u001b[1;34m(self, item)\u001b[0m\n\u001b[0;32m    804\u001b[0m \u001b[38;5;28;01mdef\u001b[39;00m \u001b[38;5;21m__getattribute__\u001b[39m(\u001b[38;5;28mself\u001b[39m, item):\n\u001b[0;32m    805\u001b[0m     \u001b[38;5;28;01mif\u001b[39;00m \u001b[38;5;129;01mnot\u001b[39;00m \u001b[38;5;28msuper\u001b[39m()\u001b[38;5;241m.\u001b[39m\u001b[38;5;21m__getattribute__\u001b[39m(\u001b[38;5;124m\"\u001b[39m\u001b[38;5;124mdebug\u001b[39m\u001b[38;5;124m\"\u001b[39m):\n\u001b[1;32m--> 806\u001b[0m         \u001b[38;5;28;01mreturn\u001b[39;00m \u001b[38;5;28;43msuper\u001b[39;49m\u001b[43m(\u001b[49m\u001b[43m)\u001b[49m\u001b[38;5;241;43m.\u001b[39;49m\u001b[38;5;21;43m__getattribute__\u001b[39;49m\u001b[43m(\u001b[49m\u001b[43mitem\u001b[49m\u001b[43m)\u001b[49m\n\u001b[0;32m    807\u001b[0m     \u001b[38;5;28;01melse\u001b[39;00m:\n\u001b[0;32m    808\u001b[0m         \u001b[38;5;28;01mimport\u001b[39;00m \u001b[38;5;21;01minspect\u001b[39;00m\n",
      "File \u001b[1;32mc:\\Users\\Nacho MPra\\AppData\\Local\\Programs\\Python\\Python313\\Lib\\site-packages\\selenium\\webdriver\\remote\\webdriver.py:404\u001b[0m, in \u001b[0;36mWebDriver.title\u001b[1;34m(self)\u001b[0m\n\u001b[0;32m    395\u001b[0m \u001b[38;5;129m@property\u001b[39m\n\u001b[0;32m    396\u001b[0m \u001b[38;5;28;01mdef\u001b[39;00m \u001b[38;5;21mtitle\u001b[39m(\u001b[38;5;28mself\u001b[39m) \u001b[38;5;241m-\u001b[39m\u001b[38;5;241m>\u001b[39m \u001b[38;5;28mstr\u001b[39m:\n\u001b[0;32m    397\u001b[0m \u001b[38;5;250m    \u001b[39m\u001b[38;5;124;03m\"\"\"Returns the title of the current page.\u001b[39;00m\n\u001b[0;32m    398\u001b[0m \n\u001b[0;32m    399\u001b[0m \u001b[38;5;124;03m    :Usage:\u001b[39;00m\n\u001b[1;32m   (...)\u001b[0m\n\u001b[0;32m    402\u001b[0m \u001b[38;5;124;03m            title = driver.title\u001b[39;00m\n\u001b[0;32m    403\u001b[0m \u001b[38;5;124;03m    \"\"\"\u001b[39;00m\n\u001b[1;32m--> 404\u001b[0m     \u001b[38;5;28;01mreturn\u001b[39;00m \u001b[38;5;28;43mself\u001b[39;49m\u001b[38;5;241;43m.\u001b[39;49m\u001b[43mexecute\u001b[49m\u001b[43m(\u001b[49m\u001b[43mCommand\u001b[49m\u001b[38;5;241;43m.\u001b[39;49m\u001b[43mGET_TITLE\u001b[49m\u001b[43m)\u001b[49m\u001b[38;5;241m.\u001b[39mget(\u001b[38;5;124m\"\u001b[39m\u001b[38;5;124mvalue\u001b[39m\u001b[38;5;124m\"\u001b[39m, \u001b[38;5;124m\"\u001b[39m\u001b[38;5;124m\"\u001b[39m)\n",
      "File \u001b[1;32mc:\\Users\\Nacho MPra\\AppData\\Local\\Programs\\Python\\Python313\\Lib\\site-packages\\selenium\\webdriver\\remote\\webdriver.py:384\u001b[0m, in \u001b[0;36mWebDriver.execute\u001b[1;34m(self, driver_command, params)\u001b[0m\n\u001b[0;32m    382\u001b[0m response \u001b[38;5;241m=\u001b[39m \u001b[38;5;28mself\u001b[39m\u001b[38;5;241m.\u001b[39mcommand_executor\u001b[38;5;241m.\u001b[39mexecute(driver_command, params)\n\u001b[0;32m    383\u001b[0m \u001b[38;5;28;01mif\u001b[39;00m response:\n\u001b[1;32m--> 384\u001b[0m     \u001b[38;5;28;43mself\u001b[39;49m\u001b[38;5;241;43m.\u001b[39;49m\u001b[43merror_handler\u001b[49m\u001b[38;5;241;43m.\u001b[39;49m\u001b[43mcheck_response\u001b[49m\u001b[43m(\u001b[49m\u001b[43mresponse\u001b[49m\u001b[43m)\u001b[49m\n\u001b[0;32m    385\u001b[0m     response[\u001b[38;5;124m\"\u001b[39m\u001b[38;5;124mvalue\u001b[39m\u001b[38;5;124m\"\u001b[39m] \u001b[38;5;241m=\u001b[39m \u001b[38;5;28mself\u001b[39m\u001b[38;5;241m.\u001b[39m_unwrap_value(response\u001b[38;5;241m.\u001b[39mget(\u001b[38;5;124m\"\u001b[39m\u001b[38;5;124mvalue\u001b[39m\u001b[38;5;124m\"\u001b[39m, \u001b[38;5;28;01mNone\u001b[39;00m))\n\u001b[0;32m    386\u001b[0m     \u001b[38;5;28;01mreturn\u001b[39;00m response\n",
      "File \u001b[1;32mc:\\Users\\Nacho MPra\\AppData\\Local\\Programs\\Python\\Python313\\Lib\\site-packages\\selenium\\webdriver\\remote\\errorhandler.py:232\u001b[0m, in \u001b[0;36mErrorHandler.check_response\u001b[1;34m(self, response)\u001b[0m\n\u001b[0;32m    230\u001b[0m         alert_text \u001b[38;5;241m=\u001b[39m value[\u001b[38;5;124m\"\u001b[39m\u001b[38;5;124malert\u001b[39m\u001b[38;5;124m\"\u001b[39m]\u001b[38;5;241m.\u001b[39mget(\u001b[38;5;124m\"\u001b[39m\u001b[38;5;124mtext\u001b[39m\u001b[38;5;124m\"\u001b[39m)\n\u001b[0;32m    231\u001b[0m     \u001b[38;5;28;01mraise\u001b[39;00m exception_class(message, screen, stacktrace, alert_text)  \u001b[38;5;66;03m# type: ignore[call-arg]  # mypy is not smart enough here\u001b[39;00m\n\u001b[1;32m--> 232\u001b[0m \u001b[38;5;28;01mraise\u001b[39;00m exception_class(message, screen, stacktrace)\n",
      "\u001b[1;31mNoSuchWindowException\u001b[0m: Message: no such window: target window already closed\nfrom unknown error: web view not found\n  (Session info: chrome=131.0.6778.205)\nStacktrace:\n\tGetHandleVerifier [0x00A0EC13+23731]\n\t(No symbol) [0x0099C394]\n\t(No symbol) [0x0087BE63]\n\t(No symbol) [0x0085D92B]\n\t(No symbol) [0x008E7F7F]\n\t(No symbol) [0x008FAD99]\n\t(No symbol) [0x008E1BF6]\n\t(No symbol) [0x008B3F35]\n\t(No symbol) [0x008B4EBD]\n\tGetHandleVerifier [0x00CEF0D3+3039603]\n\tGetHandleVerifier [0x00D02DEA+3120778]\n\tGetHandleVerifier [0x00CFB592+3089970]\n\tGetHandleVerifier [0x00AA43B0+635984]\n\t(No symbol) [0x009A4DCD]\n\t(No symbol) [0x009A2068]\n\t(No symbol) [0x009A2205]\n\t(No symbol) [0x00994FD0]\n\tBaseThreadInitThunk [0x763F7BA9+25]\n\tRtlInitializeExceptionChain [0x7738C0CB+107]\n\tRtlClearBits [0x7738C04F+191]\n"
     ]
    }
   ],
   "source": [
    "print(\"Current window handles:\", driver.window_handles)\n",
    "print(\"Current window title:\", driver.title)"
   ]
  },
  {
   "cell_type": "code",
   "execution_count": 89,
   "metadata": {},
   "outputs": [
    {
     "name": "stdout",
     "output_type": "stream",
     "text": [
      "Scroll completado hasta 1300\n"
     ]
    }
   ],
   "source": [
    "#def song_stats:\n",
    "go_stats = driver.find_element(By.XPATH, '/html/body/div[1]/div/main/div[2]/div/div[2]/div[1]/div[2]/div/div/a/div/div')\n",
    "time.sleep(rd.uniform(2.1,2.7))\n",
    "go_stats.click()\n",
    "driver.switch_to.window(driver.window_handles[1])\n",
    "scroll(1300)\n"
   ]
  },
  {
   "cell_type": "code",
   "execution_count": 90,
   "metadata": {},
   "outputs": [
    {
     "ename": "JavascriptException",
     "evalue": "Message: javascript error: Cannot read properties of null (reading 'data')\n  (Session info: chrome=131.0.6778.205)\nStacktrace:\n\tGetHandleVerifier [0x00F2EC13+23731]\n\t(No symbol) [0x00EBC394]\n\t(No symbol) [0x00D9BE63]\n\t(No symbol) [0x00DA1971]\n\t(No symbol) [0x00DA3AFC]\n\t(No symbol) [0x00E1C1C7]\n\t(No symbol) [0x00E01E5C]\n\t(No symbol) [0x00E1B46E]\n\t(No symbol) [0x00E01BF6]\n\t(No symbol) [0x00DD3F35]\n\t(No symbol) [0x00DD4EBD]\n\tGetHandleVerifier [0x0120F0D3+3039603]\n\tGetHandleVerifier [0x01222DEA+3120778]\n\tGetHandleVerifier [0x0121B592+3089970]\n\tGetHandleVerifier [0x00FC43B0+635984]\n\t(No symbol) [0x00EC4DCD]\n\t(No symbol) [0x00EC2068]\n\t(No symbol) [0x00EC2205]\n\t(No symbol) [0x00EB4FD0]\n\tBaseThreadInitThunk [0x763F7BA9+25]\n\tRtlInitializeExceptionChain [0x7738C0CB+107]\n\tRtlClearBits [0x7738C04F+191]\n",
     "output_type": "error",
     "traceback": [
      "\u001b[1;31m---------------------------------------------------------------------------\u001b[0m",
      "\u001b[1;31mJavascriptException\u001b[0m                       Traceback (most recent call last)",
      "Cell \u001b[1;32mIn[90], line 1\u001b[0m\n\u001b[1;32m----> 1\u001b[0m chart_data \u001b[38;5;241m=\u001b[39m \u001b[43mdriver\u001b[49m\u001b[38;5;241;43m.\u001b[39;49m\u001b[43mexecute_script\u001b[49m\u001b[43m(\u001b[49m\u001b[38;5;124;43m\"\u001b[39;49m\u001b[38;5;124;43mreturn document.querySelector(\u001b[39;49m\u001b[38;5;124;43m'\u001b[39;49m\u001b[38;5;124;43mtrend-hashtag-colorful\u001b[39;49m\u001b[38;5;124;43m'\u001b[39;49m\u001b[38;5;124;43m).data;\u001b[39;49m\u001b[38;5;124;43m\"\u001b[39;49m\u001b[43m)\u001b[49m\n\u001b[0;32m      2\u001b[0m \u001b[38;5;28mprint\u001b[39m(chart_data)\n",
      "File \u001b[1;32mc:\\Users\\Nacho MPra\\AppData\\Local\\Programs\\Python\\Python313\\Lib\\site-packages\\selenium\\webdriver\\remote\\webdriver.py:444\u001b[0m, in \u001b[0;36mWebDriver.execute_script\u001b[1;34m(self, script, *args)\u001b[0m\n\u001b[0;32m    441\u001b[0m converted_args \u001b[38;5;241m=\u001b[39m \u001b[38;5;28mlist\u001b[39m(args)\n\u001b[0;32m    442\u001b[0m command \u001b[38;5;241m=\u001b[39m Command\u001b[38;5;241m.\u001b[39mW3C_EXECUTE_SCRIPT\n\u001b[1;32m--> 444\u001b[0m \u001b[38;5;28;01mreturn\u001b[39;00m \u001b[38;5;28;43mself\u001b[39;49m\u001b[38;5;241;43m.\u001b[39;49m\u001b[43mexecute\u001b[49m\u001b[43m(\u001b[49m\u001b[43mcommand\u001b[49m\u001b[43m,\u001b[49m\u001b[43m \u001b[49m\u001b[43m{\u001b[49m\u001b[38;5;124;43m\"\u001b[39;49m\u001b[38;5;124;43mscript\u001b[39;49m\u001b[38;5;124;43m\"\u001b[39;49m\u001b[43m:\u001b[49m\u001b[43m \u001b[49m\u001b[43mscript\u001b[49m\u001b[43m,\u001b[49m\u001b[43m \u001b[49m\u001b[38;5;124;43m\"\u001b[39;49m\u001b[38;5;124;43margs\u001b[39;49m\u001b[38;5;124;43m\"\u001b[39;49m\u001b[43m:\u001b[49m\u001b[43m \u001b[49m\u001b[43mconverted_args\u001b[49m\u001b[43m}\u001b[49m\u001b[43m)\u001b[49m[\u001b[38;5;124m\"\u001b[39m\u001b[38;5;124mvalue\u001b[39m\u001b[38;5;124m\"\u001b[39m]\n",
      "File \u001b[1;32mc:\\Users\\Nacho MPra\\AppData\\Local\\Programs\\Python\\Python313\\Lib\\site-packages\\selenium\\webdriver\\remote\\webdriver.py:384\u001b[0m, in \u001b[0;36mWebDriver.execute\u001b[1;34m(self, driver_command, params)\u001b[0m\n\u001b[0;32m    382\u001b[0m response \u001b[38;5;241m=\u001b[39m \u001b[38;5;28mself\u001b[39m\u001b[38;5;241m.\u001b[39mcommand_executor\u001b[38;5;241m.\u001b[39mexecute(driver_command, params)\n\u001b[0;32m    383\u001b[0m \u001b[38;5;28;01mif\u001b[39;00m response:\n\u001b[1;32m--> 384\u001b[0m     \u001b[38;5;28;43mself\u001b[39;49m\u001b[38;5;241;43m.\u001b[39;49m\u001b[43merror_handler\u001b[49m\u001b[38;5;241;43m.\u001b[39;49m\u001b[43mcheck_response\u001b[49m\u001b[43m(\u001b[49m\u001b[43mresponse\u001b[49m\u001b[43m)\u001b[49m\n\u001b[0;32m    385\u001b[0m     response[\u001b[38;5;124m\"\u001b[39m\u001b[38;5;124mvalue\u001b[39m\u001b[38;5;124m\"\u001b[39m] \u001b[38;5;241m=\u001b[39m \u001b[38;5;28mself\u001b[39m\u001b[38;5;241m.\u001b[39m_unwrap_value(response\u001b[38;5;241m.\u001b[39mget(\u001b[38;5;124m\"\u001b[39m\u001b[38;5;124mvalue\u001b[39m\u001b[38;5;124m\"\u001b[39m, \u001b[38;5;28;01mNone\u001b[39;00m))\n\u001b[0;32m    386\u001b[0m     \u001b[38;5;28;01mreturn\u001b[39;00m response\n",
      "File \u001b[1;32mc:\\Users\\Nacho MPra\\AppData\\Local\\Programs\\Python\\Python313\\Lib\\site-packages\\selenium\\webdriver\\remote\\errorhandler.py:232\u001b[0m, in \u001b[0;36mErrorHandler.check_response\u001b[1;34m(self, response)\u001b[0m\n\u001b[0;32m    230\u001b[0m         alert_text \u001b[38;5;241m=\u001b[39m value[\u001b[38;5;124m\"\u001b[39m\u001b[38;5;124malert\u001b[39m\u001b[38;5;124m\"\u001b[39m]\u001b[38;5;241m.\u001b[39mget(\u001b[38;5;124m\"\u001b[39m\u001b[38;5;124mtext\u001b[39m\u001b[38;5;124m\"\u001b[39m)\n\u001b[0;32m    231\u001b[0m     \u001b[38;5;28;01mraise\u001b[39;00m exception_class(message, screen, stacktrace, alert_text)  \u001b[38;5;66;03m# type: ignore[call-arg]  # mypy is not smart enough here\u001b[39;00m\n\u001b[1;32m--> 232\u001b[0m \u001b[38;5;28;01mraise\u001b[39;00m exception_class(message, screen, stacktrace)\n",
      "\u001b[1;31mJavascriptException\u001b[0m: Message: javascript error: Cannot read properties of null (reading 'data')\n  (Session info: chrome=131.0.6778.205)\nStacktrace:\n\tGetHandleVerifier [0x00F2EC13+23731]\n\t(No symbol) [0x00EBC394]\n\t(No symbol) [0x00D9BE63]\n\t(No symbol) [0x00DA1971]\n\t(No symbol) [0x00DA3AFC]\n\t(No symbol) [0x00E1C1C7]\n\t(No symbol) [0x00E01E5C]\n\t(No symbol) [0x00E1B46E]\n\t(No symbol) [0x00E01BF6]\n\t(No symbol) [0x00DD3F35]\n\t(No symbol) [0x00DD4EBD]\n\tGetHandleVerifier [0x0120F0D3+3039603]\n\tGetHandleVerifier [0x01222DEA+3120778]\n\tGetHandleVerifier [0x0121B592+3089970]\n\tGetHandleVerifier [0x00FC43B0+635984]\n\t(No symbol) [0x00EC4DCD]\n\t(No symbol) [0x00EC2068]\n\t(No symbol) [0x00EC2205]\n\t(No symbol) [0x00EB4FD0]\n\tBaseThreadInitThunk [0x763F7BA9+25]\n\tRtlInitializeExceptionChain [0x7738C0CB+107]\n\tRtlClearBits [0x7738C04F+191]\n"
     ]
    }
   ],
   "source": [
    "chart_data = driver.execute_script(\"return document.querySelector('trend-hashtag-colorful').data;\")\n",
    "print(chart_data)"
   ]
  },
  {
   "cell_type": "code",
   "execution_count": 67,
   "metadata": {},
   "outputs": [
    {
     "name": "stdout",
     "output_type": "stream",
     "text": [
      "Scroll completado hasta 1564\n"
     ]
    }
   ],
   "source": [
    "print(f'Scroll completado hasta', driver.execute_script(\"return window.pageYOffset\"))"
   ]
  },
  {
   "cell_type": "code",
   "execution_count": null,
   "metadata": {},
   "outputs": [],
   "source": [
    "for i in range(1,72):\n",
    "    country_select()\n",
    "    driver.execute_script(\"window.scrollTo(0, 300)\")\n",
    "    loadMore = driver.find_element(By.XPATH, ('/html/body/div[6]/div/div/div/div/div[2]/div' + str([i]) +'/div/div'))\n",
    "    time.sleep(rd.uniform(2.1,2.7))\n",
    "    loadMore.click()\n",
    "    time.sleep(rd.uniform(2.1,2.7))\n",
    "    scroll(10000)\n",
    "    soup = html_extract()\n",
    "    df_country = pd.DataFrame(country_songs(i))\n",
    "    output = pd.concat([output, df_country], ignore_index=True)\n",
    "output"
   ]
  },
  {
   "cell_type": "code",
   "execution_count": 39,
   "metadata": {},
   "outputs": [],
   "source": [
    "loadMore = driver.find_element(By.XPATH, ('/html/body/div[6]/div/div/div/div/div[2]/div[39]/div/div'))\n",
    "time.sleep(rd.uniform(2.1,2.7))\n",
    "loadMore.click()"
   ]
  },
  {
   "cell_type": "code",
   "execution_count": 46,
   "metadata": {},
   "outputs": [],
   "source": [
    "output.to_csv('top_songs_last120.csv', index=False )"
   ]
  },
  {
   "cell_type": "code",
   "execution_count": null,
   "metadata": {},
   "outputs": [],
   "source": [
    "html_extract()"
   ]
  },
  {
   "cell_type": "code",
   "execution_count": null,
   "metadata": {},
   "outputs": [],
   "source": [
    "country_songs()"
   ]
  },
  {
   "cell_type": "code",
   "execution_count": null,
   "metadata": {},
   "outputs": [],
   "source": [
    "print(df)"
   ]
  },
  {
   "cell_type": "code",
   "execution_count": 8,
   "metadata": {},
   "outputs": [],
   "source": [
    "driver.quit()"
   ]
  }
 ],
 "metadata": {
  "kernelspec": {
   "display_name": "Python 3",
   "language": "python",
   "name": "python3"
  },
  "language_info": {
   "codemirror_mode": {
    "name": "ipython",
    "version": 3
   },
   "file_extension": ".py",
   "mimetype": "text/x-python",
   "name": "python",
   "nbconvert_exporter": "python",
   "pygments_lexer": "ipython3",
   "version": "3.13.0"
  }
 },
 "nbformat": 4,
 "nbformat_minor": 2
}
