{
 "cells": [
  {
   "cell_type": "markdown",
   "metadata": {},
   "source": [
    "Extracción de datos TikTok, top 100 canciones más trend de los últimos 100 días"
   ]
  },
  {
   "cell_type": "code",
   "execution_count": 1,
   "metadata": {},
   "outputs": [],
   "source": [
    "import requests\n",
    "from bs4 import BeautifulSoup as bs\n",
    "from selenium import webdriver\n",
    "from fake_useragent import UserAgent\n",
    "from selenium.webdriver.chrome.service import Service\n",
    "from selenium.webdriver.common.keys import Keys\n",
    "from selenium.webdriver.common.by import By\n",
    "from selenium.webdriver.support.ui import WebDriverWait\n",
    "from selenium.webdriver.support import expected_conditions as EC\n",
    "import undetected_chromedriver as uc\n",
    "import re # Expresiones regulares \n",
    "import time\n",
    "import pandas as pd\n",
    "import random as rd"
   ]
  },
  {
   "cell_type": "code",
   "execution_count": 2,
   "metadata": {},
   "outputs": [],
   "source": [
    "url = 'https://ads.tiktok.com/business/creativecenter/inspiration/popular/music/pc/en'\n",
    "service = Service(executable_path='./chromedriver.exe')\n",
    "options = webdriver.ChromeOptions()\n",
    "options.add_argument(\"--disable-blink-features=AutomationControlled\")"
   ]
  },
  {
   "cell_type": "code",
   "execution_count": 3,
   "metadata": {},
   "outputs": [],
   "source": [
    "driver = uc.Chrome(service=service, options=options)\n",
    "driver.get(\"http://www.google.es\")\n"
   ]
  },
  {
   "cell_type": "code",
   "execution_count": 4,
   "metadata": {},
   "outputs": [],
   "source": [
    "driver.get(url)"
   ]
  },
  {
   "cell_type": "code",
   "execution_count": 5,
   "metadata": {},
   "outputs": [],
   "source": [
    "\n",
    "#Logado\n",
    "# Guardar el identificador de la ventana principal\n",
    "main_window = driver.current_window_handle\n",
    "\n",
    "#Clickar log in\n",
    "log_in = driver.find_element(By.XPATH, '/html/body/div[1]/div/header/div[2]/div') #boton login\n",
    "time.sleep(0.2)\n",
    "log_in.click()\n",
    "\n",
    "# # # Cambiar el foco a la ventana emergente\n",
    "\n",
    "# Proceder con la automatización en el pop-up\n",
    "time.sleep(rd.uniform(5.1,5.7))\n",
    "log_google = driver.find_element(By.XPATH, '/html/body/div[14]/div/div[2]/div/div[2]/div/div[2]/div[2]/div/div[2]/div[1]') #boton login google\n",
    "time.sleep(rd.uniform(1.2,2.7))\n",
    "log_google.click()\n",
    "\n",
    "#info y logado\n",
    "user = ''\n",
    "pw = ''\n",
    "driver.switch_to.window(driver.window_handles[1])\n",
    "# Espera explícita para el campo de correo\n",
    "email_field = WebDriverWait(driver, 20).until(\n",
    "    EC.presence_of_element_located((By.ID, \"identifierId\"))\n",
    ")\n",
    "email_field.send_keys(user)\n",
    "email_field.send_keys(Keys.RETURN)\n",
    "time.sleep(rd.uniform(2.1,3.1))\n",
    "\n",
    "#ingresar pw\n",
    "password_field = WebDriverWait(driver, 10).until(\n",
    "        EC.presence_of_element_located((By.NAME, \"Passwd\"))\n",
    "    )\n",
    "password_field.send_keys(pw)\n",
    "time.sleep(2)\n",
    "next_button = driver.find_element(By.ID, \"passwordNext\")\n",
    "next_button.click()\n",
    "driver.switch_to.window(main_window)\n",
    "time.sleep(rd.uniform(7.1,8.1))\n",
    "\n",
    "#vuelta a pag principal\n",
    "driver.switch_to.window(main_window)"
   ]
  },
  {
   "cell_type": "markdown",
   "metadata": {},
   "source": [
    "Funcion del logado abajo"
   ]
  },
  {
   "cell_type": "code",
   "execution_count": null,
   "metadata": {},
   "outputs": [],
   "source": [
    "def log_to_main(mail = str, pwd = str):\n",
    "    #Logado\n",
    "    # Guardar el identificador de la ventana principal\n",
    "    main_window = driver.current_window_handle\n",
    "\n",
    "    #Clickar log in\n",
    "    log_in = driver.find_element(By.XPATH, '/html/body/div[1]/div/header/div[2]/div') #boton login\n",
    "    time.sleep(0.2)\n",
    "    log_in.click()\n",
    "\n",
    "    # # # Cambiar el foco a la ventana emergente\n",
    "\n",
    "    # Proceder con la automatización en el pop-up\n",
    "    time.sleep(rd.uniform(5.1,5.7))\n",
    "    log_google = driver.find_element(By.XPATH, '/html/body/div[14]/div/div[2]/div/div[2]/div/div[2]/div[2]/div/div[2]/div[1]') #boton login google\n",
    "    time.sleep(rd.uniform(1.2,2.7))\n",
    "    log_google.click()\n",
    "\n",
    "    #info y logado\n",
    "    user = mail\n",
    "    pw = pwd\n",
    "    driver.switch_to.window(driver.window_handles[1])\n",
    "    # Espera explícita para el campo de correo\n",
    "    email_field = WebDriverWait(driver, 20).until(\n",
    "        EC.presence_of_element_located((By.ID, \"identifierId\"))\n",
    "    )\n",
    "    email_field.send_keys(user)\n",
    "    email_field.send_keys(Keys.RETURN)\n",
    "    time.sleep(rd.uniform(2.1,3.1))\n",
    "\n",
    "    #ingresar pw\n",
    "    password_field = WebDriverWait(driver, 10).until(\n",
    "            EC.presence_of_element_located((By.NAME, \"Passwd\"))\n",
    "        )\n",
    "    password_field.send_keys(pw)\n",
    "    time.sleep(2)\n",
    "    next_button = driver.find_element(By.ID, \"passwordNext\")\n",
    "    next_button.click()\n",
    "    driver.switch_to.window(main_window)\n",
    "    time.sleep(rd.uniform(7.1,8.1))\n",
    "\n",
    "    #vuelta a pag principal\n",
    "    return driver.switch_to.window(main_window)"
   ]
  },
  {
   "cell_type": "code",
   "execution_count": 9,
   "metadata": {},
   "outputs": [],
   "source": [
    "\n",
    "# Guardar el identificador de la ventana principal\n",
    "main_window = driver.current_window_handle\n",
    "\n",
    "# Cambiar el foco a la ventana emergente\n",
    "for handle in driver.window_handles:\n",
    "    if handle != main_window:\n",
    "        driver.switch_to.window(handle)\n",
    "        break\n",
    "\n",
    "# Proceder con la automatización en el pop-up\n"
   ]
  },
  {
   "cell_type": "code",
   "execution_count": 77,
   "metadata": {},
   "outputs": [
    {
     "name": "stdout",
     "output_type": "stream",
     "text": [
      "Current window handles: ['4E192AC2AD447CA4142ECBA03DA7EE8B']\n",
      "Current window title: Trend Discovery: Viral TikTok Sound\n"
     ]
    }
   ],
   "source": [
    "print(\"Current window handles:\", driver.window_handles)\n",
    "print(\"Current window title:\", driver.title)\n"
   ]
  },
  {
   "cell_type": "code",
   "execution_count": 60,
   "metadata": {},
   "outputs": [],
   "source": [
    "user = 'ancho.@gmail.com'\n",
    "pw = ''\n",
    "driver.switch_to.window(driver.window_handles[1])\n",
    "# Espera explícita para el campo de correo\n",
    "email_field = WebDriverWait(driver, 20).until(\n",
    "    EC.presence_of_element_located((By.ID, \"identifierId\"))\n",
    ")\n",
    "email_field.send_keys(user)\n",
    "email_field.send_keys(Keys.RETURN)\n",
    "time.sleep(rd.uniform(2.1,3.1))\n",
    "\n",
    "#ingresar pw\n",
    "password_field = WebDriverWait(driver, 10).until(\n",
    "        EC.presence_of_element_located((By.NAME, \"Passwd\"))\n",
    "    )\n",
    "password_field.send_keys(pw)\n",
    "time.sleep(2)\n",
    "next_button = driver.find_element(By.ID, \"passwordNext\")\n",
    "next_button.click()\n",
    "driver.switch_to.window(main_window)\n",
    "time.sleep(rd.uniform(7.1,8.1))\n",
    "driver.switch_to.window(main_window)"
   ]
  },
  {
   "cell_type": "code",
   "execution_count": 6,
   "metadata": {},
   "outputs": [],
   "source": [
    "#desplegable last n days\n",
    "\n",
    "driver.execute_script(\"window.scrollTo(0, 100)\")\n",
    "drill_days = driver.find_element(By.XPATH, '/html/body/div[1]/div/main/div[2]/div/div[1]/div[3]/div[1]/div[1]/span/span/div/div') \n",
    "time.sleep(rd.uniform(2.1,2.7))\n",
    "drill_days.click()\n",
    "time.sleep(rd.uniform(2.1,4.7))"
   ]
  },
  {
   "cell_type": "code",
   "execution_count": 7,
   "metadata": {},
   "outputs": [],
   "source": [
    "#seleccionar last 120 days\n",
    "\n",
    "driver.execute_script(\"window.scrollTo(0, 300)\")\n",
    "sel_days = driver.find_element(By.CSS_SELECTOR, 'body > div:nth-child(14) > div > div > div > div > div > div:nth-child(3) > div > div > span > div')\n",
    "time.sleep(rd.uniform(2.1,2.7))\n",
    "sel_days.click()"
   ]
  },
  {
   "cell_type": "code",
   "execution_count": 44,
   "metadata": {},
   "outputs": [],
   "source": [
    "output = pd.DataFrame()\n",
    "dict_list = []"
   ]
  },
  {
   "cell_type": "code",
   "execution_count": 34,
   "metadata": {},
   "outputs": [],
   "source": [
    "def country_select():\n",
    "     #selector paises\n",
    "    driver.execute_script(\"window.scrollTo(0, 100)\")\n",
    "    c_sel = driver.find_element(By.XPATH, '/html/body/div[1]/div/main/div[1]/div/div/div/div/span/span/span/span/div')\n",
    "    time.sleep(rd.uniform(2.1,2.7))\n",
    "    return c_sel.click()"
   ]
  },
  {
   "cell_type": "code",
   "execution_count": 17,
   "metadata": {},
   "outputs": [],
   "source": [
    "#Scrolleo lento para cargar página\n",
    "def scroll(n):\n",
    "    current_height = driver.execute_script(\"return window.pageYOffset\")\n",
    "\n",
    "    while current_height < n:\n",
    "        time.sleep(rd.uniform(1.5,3.0))\n",
    "        driver.execute_script(\"window.scrollBy(0, 100)\")\n",
    "        current_height = driver.execute_script(\"return window.pageYOffset\")\n",
    "    return print(f'Scroll completado hasta', driver.execute_script(\"return window.pageYOffset\"))"
   ]
  },
  {
   "cell_type": "code",
   "execution_count": 41,
   "metadata": {},
   "outputs": [],
   "source": [
    "def html_extract():\n",
    "    html_source = driver.page_source\n",
    "    soup = bs(html_source, 'html.parser')\n",
    "    print(\"Html extraído\")\n",
    "    return soup"
   ]
  },
  {
   "cell_type": "code",
   "execution_count": 37,
   "metadata": {},
   "outputs": [],
   "source": [
    "def country_songs(n):\n",
    "    dict_songs = {\"Artista\": [x.get_text() for x in soup.find_all(\"span\", class_=\"ItemCard_autherName__gdrue index-mobile_autherName__DmQfn\")],\n",
    "                    \"Cancion\": [x.get_text() for x in soup.find_all(\"span\", class_=\"ItemCard_musicName__2znhM index-mobile_musicName__4Srx_\")],             \n",
    "                    \"Ranking\": [x.get_text() for x in soup.find_all(\"span\", class_=\"RankingStatus_rankingIndex__ZMDrH index-mobile_rankingIndex__9mXja\")]\n",
    "    }\n",
    "    dict_songs['Pais'] = soup.find(\"div\", {\"data-testid\": \"cc_rimless_select_undefined_item_\" + str(n-1)}).get_text() #para buscar el pais, es el range - 1, incoporamos el n del pais\n",
    "    df = pd.DataFrame(dict_songs)\n",
    "    driver.execute_script(\"window.scrollTo(0, 0)\"), print(\"Dictionario creado y vuelta al top de la página\")\n",
    "    return df\n"
   ]
  },
  {
   "cell_type": "code",
   "execution_count": null,
   "metadata": {},
   "outputs": [],
   "source": [
    "for i in range(1,72):\n",
    "    country_select()\n",
    "    driver.execute_script(\"window.scrollTo(0, 300)\")\n",
    "    loadMore = driver.find_element(By.XPATH, ('/html/body/div[6]/div/div/div/div/div[2]/div' + str([i]) +'/div/div'))\n",
    "    time.sleep(rd.uniform(2.1,2.7))\n",
    "    loadMore.click()\n",
    "    time.sleep(rd.uniform(2.1,2.7))\n",
    "    scroll(10000)\n",
    "    soup = html_extract()\n",
    "    df_country = pd.DataFrame(country_songs(i))\n",
    "    output = pd.concat([output, df_country], ignore_index=True)\n",
    "output.to_csv('top_songs_last120.csv', index=False )\n",
    "driver.quit()"
   ]
  }
 ],
 "metadata": {
  "kernelspec": {
   "display_name": "Python 3",
   "language": "python",
   "name": "python3"
  },
  "language_info": {
   "codemirror_mode": {
    "name": "ipython",
    "version": 3
   },
   "file_extension": ".py",
   "mimetype": "text/x-python",
   "name": "python",
   "nbconvert_exporter": "python",
   "pygments_lexer": "ipython3",
   "version": "3.13.0"
  }
 },
 "nbformat": 4,
 "nbformat_minor": 2
}
