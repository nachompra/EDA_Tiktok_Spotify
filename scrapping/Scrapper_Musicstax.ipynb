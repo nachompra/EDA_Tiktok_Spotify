{
 "cells": [
  {
   "cell_type": "code",
   "execution_count": 64,
   "metadata": {},
   "outputs": [],
   "source": [
    "import requests\n",
    "from bs4 import BeautifulSoup as bs\n",
    "from selenium import webdriver\n",
    "from fake_useragent import UserAgent\n",
    "from selenium.webdriver.chrome.service import Service\n",
    "from selenium.webdriver.common.keys import Keys\n",
    "from selenium.webdriver.common.by import By\n",
    "from seleniumbase import Driver\n",
    "from selenium.webdriver.support.ui import WebDriverWait\n",
    "from selenium.webdriver import ActionChains\n",
    "from selenium.webdriver.common.actions.wheel_input import ScrollOrigin\n",
    "from selenium_stealth import stealth\n",
    "from selenium.webdriver.support import expected_conditions as EC\n",
    "import undetected_chromedriver as uc\n",
    "import re # Expresiones regulares \n",
    "import time\n",
    "import pandas as pd\n",
    "import random as rd"
   ]
  },
  {
   "cell_type": "code",
   "execution_count": 65,
   "metadata": {},
   "outputs": [],
   "source": [
    "url = 'https://musicstax.com/'\n",
    "service = Service(executable_path='scrapping\\chromedriver.exe')\n",
    "options = webdriver.ChromeOptions()\n",
    "options.add_argument(\"--disable-blink-features=AutomationControlled\")"
   ]
  },
  {
   "cell_type": "code",
   "execution_count": 66,
   "metadata": {},
   "outputs": [],
   "source": [
    "# Este apartado es para acceder al enlace y saltarnos el captcha que comprueba que somos humanos\n",
    "driver = Driver(uc=True, headless=False)\n",
    "\n",
    "url = \"https://musicstax.com/\"\n",
    "\n",
    "driver.uc_open_with_reconnect(url, reconnect_time=6)\n"
   ]
  },
  {
   "cell_type": "code",
   "execution_count": null,
   "metadata": {},
   "outputs": [],
   "source": [
    "# Cargamos el listado de playlists\n",
    "playlists = pd.read_csv('scrapping\\playlist.csv')"
   ]
  },
  {
   "cell_type": "code",
   "execution_count": 68,
   "metadata": {},
   "outputs": [],
   "source": [
    "# Realiza la búsqueda de las playlists en el searchbox de la página\n",
    "def search_playlist(i):\n",
    "    action = ActionChains(driver)\n",
    "    search_box = driver.find_element(By.CSS_SELECTOR, 'body > div.container > header > div.menu-right > div.menu-container.menu-search.menu-search-bar > form > div > div > input') #searchbox\n",
    "    time.sleep(1.3)\n",
    "    action.move_to_element(search_box).click().send_keys(playlists.iloc[i][1]).perform()\n",
    "    time.sleep(0.5)\n",
    "    search_click = driver.find_element(By.CSS_SELECTOR, 'body > div.container > header > div.menu-right > div.menu-container.menu-search.menu-search-bar > form > div > button')\n",
    "    time.sleep(0.5)\n",
    "    search_click.click()"
   ]
  },
  {
   "cell_type": "code",
   "execution_count": 69,
   "metadata": {},
   "outputs": [],
   "source": [
    "def scroll(n):\n",
    "    current_height = driver.execute_script(\"return window.pageYOffset\")\n",
    "\n",
    "    while current_height < n:\n",
    "        time.sleep(rd.uniform(0.5,1.2))\n",
    "        driver.execute_script(\"window.scrollBy(0, 100)\")\n",
    "        current_height = driver.execute_script(\"return window.pageYOffset\")\n",
    "    return"
   ]
  },
  {
   "cell_type": "code",
   "execution_count": 71,
   "metadata": {},
   "outputs": [],
   "source": [
    "def move_to_song():\n",
    "    actions = ActionChains(driver)\n",
    "\n",
    "    # Obtener las coordenadas del elemento\n",
    "    element_location = element.location\n",
    "    current_location = driver.execute_script(\"return {x: window.scrollX, y: window.scrollY};\")\n",
    "\n",
    "    # Calculamos la cantidad de pasos\n",
    "    steps = 10\n",
    "    x_step = (element_location['x'] - current_location['x']) / steps\n",
    "    y_step = (element_location['y'] - current_location['y']) / steps\n",
    "\n",
    "    # El desplazamiento se hace en pasos pequeños para humanizar el movimiento lo máximo posible\n",
    "    for i in range(steps):\n",
    "        driver.execute_script(f\"window.scrollBy({x_step}, {y_step});\")\n",
    "        time.sleep(rd.uniform(0.1,0.5))  # Pequeña pausa entre cada desplazamiento\n",
    "    driver.execute_script(\"window.scrollBy(0, -200);\")"
   ]
  },
  {
   "cell_type": "code",
   "execution_count": 72,
   "metadata": {},
   "outputs": [],
   "source": [
    "def click_song():\n",
    "    click_s= driver.find_element(By.CSS_SELECTOR, css_selector)\n",
    "    time.sleep(0.5)\n",
    "    click_s.click()\n",
    "    time.sleep(2.1)\n",
    "    url_actual = driver.current_url\n",
    "    # Comprueba si es la página de error 404\n",
    "    if url_actual == \"https://musicstax.com/404\":\n",
    "        time.sleep(0.5)  # Descanso breve antes de continuar\n",
    "    else: \n",
    "        scroll(290)\n"
   ]
  },
  {
   "cell_type": "code",
   "execution_count": 70,
   "metadata": {},
   "outputs": [],
   "source": [
    "# Extraemos todo el metadato de las canciones de la playlist\n",
    "def extract_info():\n",
    "    html_source = driver.page_source\n",
    "    soup = bs(html_source, 'html.parser')\n",
    "    \n",
    "    song_id = (soup.find(class_=\"song-discover-similar\").a['href']).split('/')[-1]\n",
    "    song_dict.update({'id': song_id})\n",
    "\n",
    "    info_tech = soup.find_all(class_=\"song-fact-container-stat\")\n",
    "\n",
    "    keys_tech = ['tempo', 'key', 'loudness', 'beat']\n",
    "    values_tech = [item.get_text().replace('\\n', '').replace('\\t', '').strip() for item in info_tech]\n",
    "\n",
    "    tech_dict = {keys_tech[i]: values_tech[i] for i in range(len(keys_tech))}\n",
    "    song_dict.update(tech_dict)\n",
    "\n",
    "    info_music = (soup.find_all(class_=\"song-bar-stat\"))\n",
    "\n",
    "    keys_music = ['popularity', 'energy', 'danceability', 'positiveness','speechiness', 'liveness', 'acousticness','instrumentalness']\n",
    "    values_music = [item.get_text().replace('\\n', '').replace('\\t', '').strip() for item in info_music]\n",
    "\n",
    "    music_dict = {keys_music[i]: values_music[i] for i in range(len(keys_music))}\n",
    "\n",
    "    song_dict.update(music_dict)\n"
   ]
  },
  {
   "cell_type": "code",
   "execution_count": 73,
   "metadata": {},
   "outputs": [],
   "source": [
    "#obtener el último índice para automatizar la extracción\n",
    "def top_index():\n",
    "    html_source_listado = driver.page_source\n",
    "    soup_list = bs(html_source_listado, 'html.parser')\n",
    "    last_song = (soup_list.find_all(class_=\"album-track-number\"))\n",
    "    last_index = int(last_song[-1].get_text().replace('\\n', '').replace('\\t', '').strip())*2\n",
    "    return last_index"
   ]
  },
  {
   "cell_type": "code",
   "execution_count": null,
   "metadata": {},
   "outputs": [],
   "source": [
    "songs_details = []\n",
    "for i in range(0, 71, 1): # i devuelve la playlist para la función search_playlist\n",
    "    search_playlist(i)\n",
    "    last_index = top_index()\n",
    "    for i in range(2, last_index+2,2): # el id de cada canción sobre el que iteramos para navegar hasta ella y clicarla es siempre par\n",
    "        song_dict={}\n",
    "        css_selector = str('body > div.container > div.container-middle > div > div.album-tracks > a:nth-child(' + str(i) + ') > div.album-track-number')\n",
    "        element = driver.find_element(By.CSS_SELECTOR, css_selector)\n",
    "        move_to_song()\n",
    "        time.sleep(rd.uniform(0.5,1.2))\n",
    "        click_song()\n",
    "        time.sleep(rd.uniform(0.5,1.2))\n",
    "        try:\n",
    "            extract_info()\n",
    "            print(f\"Info Canción nº \"+str(int(i/2))+\" extraída\")\n",
    "        except AttributeError as e:\n",
    "            print(f\"Info Canción nº \"+str(int(i/2))+\" no disponible\")\n",
    "            time.sleep(0.5)\n",
    "            #driver.back()\n",
    "        time.sleep(rd.uniform(0.5,1.2))\n",
    "        songs_details.append(song_dict)\n",
    "        driver.back()\n",
    "    #pasar a escalares todos las keys\n",
    "df_details = pd.DataFrame(songs_details)\n",
    "df_details.to_csv('songs_details.csv')\n",
    "driver.quit()"
   ]
  }
 ],
 "metadata": {
  "kernelspec": {
   "display_name": "Python 3",
   "language": "python",
   "name": "python3"
  },
  "language_info": {
   "codemirror_mode": {
    "name": "ipython",
    "version": 3
   },
   "file_extension": ".py",
   "mimetype": "text/x-python",
   "name": "python",
   "nbconvert_exporter": "python",
   "pygments_lexer": "ipython3",
   "version": "3.13.0"
  }
 },
 "nbformat": 4,
 "nbformat_minor": 2
}
